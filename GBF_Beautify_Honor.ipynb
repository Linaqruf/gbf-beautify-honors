{
  "nbformat": 4,
  "nbformat_minor": 0,
  "metadata": {
    "colab": {
      "provenance": [],
      "collapsed_sections": [],
      "authorship_tag": "ABX9TyOcg2IPkty7GvoMSel29+Aj",
      "include_colab_link": true
    },
    "kernelspec": {
      "name": "python3",
      "display_name": "Python 3"
    },
    "language_info": {
      "name": "python"
    }
  },
  "cells": [
    {
      "cell_type": "markdown",
      "metadata": {
        "id": "view-in-github",
        "colab_type": "text"
      },
      "source": [
        "<a href=\"https://colab.research.google.com/github/Linaqruf/gbf-beautify-honors/blob/master/GBF_Beautify_Honor.ipynb\" target=\"_parent\"><img src=\"https://colab.research.google.com/assets/colab-badge.svg\" alt=\"Open In Colab\"/></a>"
      ]
    },
    {
      "cell_type": "markdown",
      "source": [
        "## Package Author: [qq88976321](https://github.com/qq88976321) Repository: [Github](https://github.com/qq88976321/gbf-beautify-honors) | [PyPi](https://pypi.org/project/gbf-beautify-honors/)\n",
        "\n",
        "##Colab notebook was created by: [Linaqruf](https://github.com/linaqruf)\n",
        "\n",
        "### You can find the latest updates of this notebook in this [forked repository](https://github.com/Linaqruf/gbf-beautify-honors)\n",
        "\n",
        "---\n"
      ],
      "metadata": {
        "id": "kRE96-gS_o41"
      }
    },
    {
      "cell_type": "code",
      "execution_count": null,
      "metadata": {
        "cellView": "form",
        "id": "udwJaEnT25cn"
      },
      "outputs": [],
      "source": [
        "#@title Install GBF Beautify Honors Package\n",
        "import os\n",
        "\n",
        "%cd /content/\n",
        "!pip install gbf-beautify-honors\n",
        "\n",
        "!wget -c https://raw.githubusercontent.com/Linaqruf/gbf-beautify-honors/master/gbf_beautify_honors/config.json -O config.json\n"
      ]
    },
    {
      "cell_type": "code",
      "source": [
        "#@markdown Input your `current_honor` and `expected_honor` without any `.` or `,`\n",
        "#@title Launch App\n",
        "current_honor = 1499995991 #@param {type:\"integer\"}\n",
        "expected_honor = 1500000000 #@param {type:\"integer\"}\n",
        "#@markdown Leave this option if you have nothing to do with it!\n",
        "custom_config_path = \"/content/config.json\" #@param {type:\"string\"}\n",
        "\n",
        "difference = expected_honor-current_honor\n",
        "\n",
        "from IPython.core.display import HTML\n",
        "display(HTML(f\"How much honor is left towards expected honor: <b>{difference}<b>\"))\n",
        "\n",
        "def beautify():\n",
        "  !gbf-beautify-honors --current={current_honor} --expected={expected_honor} --config={custom_config_path}\n",
        "\n",
        "beautify()"
      ],
      "metadata": {
        "cellView": "form",
        "id": "BzofycDe5E7v"
      },
      "execution_count": null,
      "outputs": []
    },
    {
      "cell_type": "code",
      "source": [
        "#@title # Beautify Honor Wikia\n",
        "import pandas as pd # library for data analysis\n",
        "import requests # library to handle requests\n",
        "from bs4 import BeautifulSoup # library to parse HTML documents\n",
        "from IPython.core.display import HTML\n",
        "from google.colab import data_table\n",
        "data_table.enable_dataframe_formatter()\n",
        "\n",
        "URL = \"https://gbf.wiki/User:Linaqruf\"\n",
        "res = requests.get(URL)\n",
        "soup = BeautifulSoup(res.content, 'html.parser')\n",
        "tables = soup.find_all('table')\n",
        "table = tables[0]\n",
        "\n",
        "display(HTML(f\"<h1>Midokuni : Beauty of Honor Guide</h1>\"))\n",
        "display(HTML(f\"<h3>This table is scraped from <a href='https://gbf.wiki/User:Linaqruf'>GBF Wiki</a><h3>\"))\n",
        "display(HTML(f\"<h3>Modified from <a href='https://gbf.wiki/User:Midokuni/Notepad/Beauty_of_Honor'>Original GBF Wiki page</a><h3>\"))\n",
        "\n",
        "df = pd.read_html(str(table), header=0, flavor='html5lib', match='.+')[0]\n",
        "df"
      ],
      "metadata": {
        "id": "2tV-Q-SiFUaN",
        "cellView": "form"
      },
      "execution_count": null,
      "outputs": []
    }
  ]
}